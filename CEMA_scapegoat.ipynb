{
 "cells": [
  {
   "cell_type": "markdown",
   "id": "fe46de15",
   "metadata": {},
   "source": [
    "# EMSCA\n",
    "\n",
    "This notebook can help you capture and compute metrics on the "
   ]
  },
  {
   "cell_type": "code",
   "execution_count": null,
   "id": "043a9b4c",
   "metadata": {},
   "outputs": [],
   "source": [
    "import sys\n",
    "sys.path.insert(1,'../../SCApeGoat-main/')\n",
    "\n",
    "from WPI_SCA_LIBRARY.CWScope import *\n",
    "from WPI_SCA_LIBRARY.LeakageModels import *\n",
    "%run \"../function/CEMA_functions.ipynb\"\""
   ]
  },
  {
   "cell_type": "code",
   "execution_count": null,
   "id": "c28761c3",
   "metadata": {},
   "outputs": [],
   "source": [
    "#Configure the cryptocore from the above options \n",
    "SCOPETYPE = 'OPENADC'\n",
    "PLATFORM = 'CWLITEXMEGA'\n",
    "CRYPTO_TARGET='TINYAES128C'\n",
    "CRYPTO_OPTIONS=''\n",
    "SS_VER='SS_VER_1_1'"
   ]
  },
  {
   "cell_type": "markdown",
   "id": "d8b9c925",
   "metadata": {},
   "source": [
    "### Setup the devices\n",
    "\n",
    "generate the hex file for the crypto core and load it to the target device. For supported options, check the readme file. "
   ]
  },
  {
   "cell_type": "code",
   "execution_count": null,
   "id": "1cbc861d",
   "metadata": {},
   "outputs": [],
   "source": [
    "%%capture #uncomment this for checking output if something is not working \n",
    "%run \"./Setup_script.ipynb\" "
   ]
  },
  {
   "cell_type": "markdown",
   "id": "0e839a06",
   "metadata": {},
   "source": [
    "#### Initialize scapegoat scope and parent directory "
   ]
  },
  {
   "cell_type": "code",
   "execution_count": null,
   "id": "a65e3056",
   "metadata": {},
   "outputs": [],
   "source": [
    "#initiazlize the scope and program the target and husky\n",
    "# scope.disconnect()\n",
    "scope = CWScope(fw_path, target_type=cw.targets.SimpleSerial,target_programmer=prog)"
   ]
  },
  {
   "cell_type": "code",
   "execution_count": null,
   "id": "99325319",
   "metadata": {},
   "outputs": [],
   "source": [
    "emsca = FileParent(\"CEMA\",\".\\\\\",True)\n",
    "pt = emsca.get_experiment(\"pt_keys\")\n",
    "\n",
    "\n",
    "#debug scripts to test the datasets\n",
    "# keys_pt = pt.get_dataset(\"keys\").read_data(0,10000)\n",
    "# random_pt = pt.get_dataset(\"plaintexts\").read_data(0,10000)\n",
    "# fixed_pt = pt.get_dataset(\"fixed_pt\").read_data(0,10000)\n",
    "\n",
    "#used to capture keys and plaintexts\n",
    "# traces, keys, plaintexts, ciphertexts = scope.standard_capture_traces(5000,fixed_pt=True)"
   ]
  },
  {
   "cell_type": "markdown",
   "id": "3086e9fb",
   "metadata": {},
   "source": [
    "# Motor setup\n"
   ]
  },
  {
   "cell_type": "code",
   "execution_count": null,
   "id": "7bbf02f0",
   "metadata": {},
   "outputs": [],
   "source": [
    "#initialise the motor\n",
    "A=XYZ()\n",
    "X,Y,Z,interface=A.XYZ_setup(velocity=10000,acceleration=10000)"
   ]
  },
  {
   "cell_type": "code",
   "execution_count": null,
   "id": "2931a811",
   "metadata": {},
   "outputs": [],
   "source": [
    "#some methods to use for going to starting position, find more functions at https://github.com/analogdevicesinc/PyTrinamic\n",
    "Z.get_actual_position() #gives actual position \n",
    "X.move_by(-stepsize*10) #moves by specific steps"
   ]
  },
  {
   "cell_type": "code",
   "execution_count": null,
   "id": "d4461cb4",
   "metadata": {},
   "outputs": [],
   "source": [
    "# side length of CW-lite processor in stepper steps\n",
    "s_len = 160000*12\n",
    "\n",
    "# number of steps per axis. square of this number is total steps\n",
    "n_steps = 10\n",
    "\n",
    "# size of steps between measurement points\n",
    "stepsize = - s_len // n_steps\n",
    "print('step size =', stepsize)"
   ]
  },
  {
   "cell_type": "markdown",
   "id": "65f49e6c",
   "metadata": {},
   "source": [
    "# Capture Traces"
   ]
  },
  {
   "cell_type": "code",
   "execution_count": null,
   "id": "a56c2ce2",
   "metadata": {},
   "outputs": [],
   "source": [
    "#add/ get experiment \n",
    "\n",
    "from datetime import datetime\n",
    "\n",
    "# Generate a timestamp with date, hour, and minute\n",
    "timestamp = datetime.now().strftime(\"%Y%m%d_%H%M\")\n",
    "\n",
    "# test = emsca.get_experiment(\"Testing_CEMA_grid\")\n",
    "# emsca.delete_experiment(\"Testing_CEMA_grid_32_32-1\")\n",
    "# test = emsca.add_experiment(\"Testing_CEMA_grid_10_10_1_25mm_10k\"+ timestamp)\n",
    "\n",
    "# test = emsca.add_experiment(\"Testing_CEMA_grid_10_10_1_25mm_10k\")\n",
    "\n"
   ]
  },
  {
   "cell_type": "code",
   "execution_count": null,
   "id": "dc7d5d44",
   "metadata": {},
   "outputs": [],
   "source": [
    "#starts from the current location traces grids and return to the starting location after capturing the whole grid \n",
    "Grid_Tracing_scapegoat(stepsize,stepsize,n_steps-1,n_steps-1,X,Y,Z,interface,scope,pt,test,10000)"
   ]
  },
  {
   "cell_type": "markdown",
   "id": "b9381a16",
   "metadata": {},
   "source": [
    "# Metrics Computation"
   ]
  },
  {
   "cell_type": "code",
   "execution_count": null,
   "id": "e71596d6",
   "metadata": {},
   "outputs": [],
   "source": [
    "#computes TVLA and plots in a heatmap\n",
    "t = plot_t_statistic_heatmap(test, grid_size=n_steps)"
   ]
  },
  {
   "cell_type": "code",
   "execution_count": null,
   "id": "f7098262",
   "metadata": {},
   "outputs": [],
   "source": [
    "#computes CEMA and plots in a heatmap\n",
    "CEMA,CEMA_max = plot_CEMA_heatmap(test,pt,10000,grid_size=n_steps)"
   ]
  },
  {
   "cell_type": "code",
   "execution_count": null,
   "id": "0ec7a1af",
   "metadata": {},
   "outputs": [],
   "source": [
    "#computes SNR and plots in a heatmap\n",
    "SNR,SNR_db = plot_SNR_heatmap_byte(test,pt,10000,grid_size=n_steps)"
   ]
  },
  {
   "cell_type": "code",
   "execution_count": null,
   "id": "99e262ce",
   "metadata": {},
   "outputs": [],
   "source": [
    "#Computes box_plot for the given trace numbers\n",
    "num_list = [500,1000,5000, 10000]  # Different trace numbers to test\n",
    "a =generate_box_plots(test, pt, num_list, target_byte=0, grid_size=n_steps)\n"
   ]
  },
  {
   "cell_type": "code",
   "execution_count": null,
   "id": "e3c4eb22",
   "metadata": {},
   "outputs": [],
   "source": [
    "#computes correaltion vs no. of traces for the specified location\n",
    "X = 3\n",
    "Y =  4\n",
    "a =plot_CEMA_wr(test,pt,800,x = Y,y=9-X,div=10)"
   ]
  },
  {
   "cell_type": "markdown",
   "id": "e5184dc5",
   "metadata": {},
   "source": [
    "# Save Matrix"
   ]
  },
  {
   "cell_type": "code",
   "execution_count": null,
   "id": "f72e06ad",
   "metadata": {},
   "outputs": [],
   "source": [
    "save_mat(SNR,'SNR_10k_10x10_1_27_25.mat')"
   ]
  },
  {
   "cell_type": "markdown",
   "id": "8745fbcc",
   "metadata": {},
   "source": [
    "# Checking the results and finding the correct keys"
   ]
  },
  {
   "cell_type": "code",
   "execution_count": null,
   "id": "f71b3e8c",
   "metadata": {},
   "outputs": [],
   "source": [
    "import pandas as pd\n",
    "k = pt.get_dataset(\"Keys\").read_data(0,1)\n",
    "print(k[0])\n",
    "\n",
    "# Find the coordinates where the value matches the key\n",
    "coordinates = np.where(CEMA == k[0][0])\n",
    "\n",
    "# Convert the coordinates to a more readable format (row, column)\n",
    "coordinates = list(zip(coordinates[0], coordinates[1]))\n",
    "\n",
    "print(coordinates)\n",
    "\n",
    "# Step 2: Retrieve scores from CEMA_max for the matching locations\n",
    "scores = [CEMA_max[coord] for coord in coordinates]\n",
    "\n",
    "# Step 3: Create a table (DataFrame) with the coordinates and corresponding scores\n",
    "score_table = pd.DataFrame({\n",
    "    'Row': [coord[0] for coord in coordinates],\n",
    "    'Column': [coord[1] for coord in coordinates],\n",
    "    'Score': scores\n",
    "})\n",
    "\n",
    "print(score_table)\n",
    "\n",
    "\n",
    "# Step 1: Flatten the CEMA_max array and get the indices of the top 10 scores\n",
    "top_indices = np.unravel_index(np.argsort(CEMA_max.ravel())[-20:], CEMA_max.shape)\n",
    "\n",
    "# Step 2: Retrieve the corresponding keys from CEMA_guesses for those indices\n",
    "top_keys = [CEMA[coord] for coord in zip(*top_indices)]\n",
    "\n",
    "# Step 3: Create a table (DataFrame) with the top scores and their corresponding keys\n",
    "top_scores = CEMA_max[top_indices]  # Extract top 10 scores\n",
    "\n",
    "score_table = pd.DataFrame({\n",
    "    'Row': top_indices[0],\n",
    "    'Column': top_indices[1],\n",
    "    'Score': top_scores,\n",
    "    'Key': top_keys\n",
    "})\n",
    "\n",
    "score_table_sorted = score_table.sort_values(by='Score', ascending=False)\n",
    "# Display the resulting table\n",
    "print(score_table_sorted)"
   ]
  },
  {
   "cell_type": "code",
   "execution_count": null,
   "id": "1c7b53f1",
   "metadata": {},
   "outputs": [],
   "source": [
    "\n",
    "# Step 1: Flatten the CEMA_max array and get the indices of all the scores sorted by value\n",
    "flat_indices = np.unravel_index(np.argsort(CEMA_max.ravel())[::-1], CEMA_max.shape)\n",
    "\n",
    "# Step 2: Retrieve the corresponding keys from CEMA_guesses for those sorted indices\n",
    "sorted_keys = [CEMA[coord] for coord in zip(*flat_indices)]\n",
    "\n",
    "# Step 3: Create a table (DataFrame) with the sorted scores and their corresponding keys\n",
    "sorted_scores = CEMA_max[flat_indices]  # Extract all scores in sorted order\n",
    "\n",
    "# Create the DataFrame\n",
    "sorted_table = pd.DataFrame({\n",
    "    'Row': flat_indices[0],\n",
    "    'Column': flat_indices[1],\n",
    "    'Score': sorted_scores,\n",
    "    'Key': sorted_keys\n",
    "})\n",
    "\n",
    "# Step 4: Find the rank of the key you are looking for\n",
    "rank = sorted_table[sorted_table['Key'] == k[0][0]].index[0] + 1  # +1 to get the 1-based rank\n",
    "\n",
    "# Display the sorted table and the rank\n",
    "print(\"Sorted Table:\")\n",
    "print(sorted_table)\n",
    "print(f\"\\nRank of key {k[0][0]}: {rank}\")"
   ]
  }
 ],
 "metadata": {
  "kernelspec": {
   "display_name": "Python 3 (ipykernel)",
   "language": "python",
   "name": "python3"
  },
  "language_info": {
   "codemirror_mode": {
    "name": "ipython",
    "version": 3
   },
   "file_extension": ".py",
   "mimetype": "text/x-python",
   "name": "python",
   "nbconvert_exporter": "python",
   "pygments_lexer": "ipython3",
   "version": "3.10.8"
  }
 },
 "nbformat": 4,
 "nbformat_minor": 5
}
